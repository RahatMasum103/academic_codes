{
 "cells": [
  {
   "cell_type": "markdown",
   "metadata": {},
   "source": [
    "## CSC 4220/5903 Lab 1: Introduction to numpy and matplotlib\n",
    "\n",
    "NumPy is the fundamental package for scientific computing with Python. Today we focus on its ability to represent and manipulate N-dimensional array objects\n",
    "\n",
    "NumPy documentation: http://www.numpy.org/"
   ]
  },
  {
   "cell_type": "code",
   "execution_count": 136,
   "metadata": {
    "collapsed": true
   },
   "outputs": [],
   "source": [
    "# Team member names go here:\n",
    "# Rahat Masum\n",
    "# name 2"
   ]
  },
  {
   "cell_type": "code",
   "execution_count": 137,
   "metadata": {
    "collapsed": true
   },
   "outputs": [],
   "source": [
    "# must import numpy to work with it\n",
    "import numpy as np"
   ]
  },
  {
   "cell_type": "markdown",
   "metadata": {},
   "source": [
    "### NumPy Part 1 (20 pts)\n",
    "\n",
    "Study the code below that shows how NumPy can be used to create and work with arrays - including two dimenisional arrays."
   ]
  },
  {
   "cell_type": "code",
   "execution_count": 138,
   "metadata": {
    "scrolled": false
   },
   "outputs": [
    {
     "name": "stdout",
     "output_type": "stream",
     "text": [
      "[1 2 3 4]\n"
     ]
    }
   ],
   "source": [
    "import numpy as np# create 1 x 4 array\n",
    "a = np.array([1, 2, 3, 4])\n",
    "print (a)"
   ]
  },
  {
   "cell_type": "code",
   "execution_count": 139,
   "metadata": {},
   "outputs": [
    {
     "name": "stdout",
     "output_type": "stream",
     "text": [
      "[[1]\n",
      " [2]\n",
      " [3]\n",
      " [4]]\n"
     ]
    }
   ],
   "source": [
    "# 4 x 1 array (column matrix)\n",
    "import numpy as np\n",
    "b = np.array([[1], [2], [3], [4]])\n",
    "print (b)"
   ]
  },
  {
   "cell_type": "code",
   "execution_count": 140,
   "metadata": {},
   "outputs": [
    {
     "name": "stdout",
     "output_type": "stream",
     "text": [
      "[[1 2]\n",
      " [3 4]\n",
      " [5 6]]\n"
     ]
    }
   ],
   "source": [
    "# 3 x 2 matrix\n",
    "import numpy as np\n",
    "c = np.array([[1, 2], [3, 4], [5, 6]])\n",
    "print (c)"
   ]
  },
  {
   "cell_type": "code",
   "execution_count": 141,
   "metadata": {},
   "outputs": [
    {
     "name": "stdout",
     "output_type": "stream",
     "text": [
      "[[ 0.  0.  0.  0.]\n",
      " [ 0.  0.  0.  0.]]\n"
     ]
    }
   ],
   "source": [
    "# 2x4 matrix of all zeros\n",
    "import numpy as np\n",
    "d = np.zeros((2,4))\n",
    "print (d)"
   ]
  },
  {
   "cell_type": "code",
   "execution_count": 142,
   "metadata": {},
   "outputs": [
    {
     "name": "stdout",
     "output_type": "stream",
     "text": [
      "[[ 1.  1.  1.  1.]\n",
      " [ 1.  1.  1.  1.]]\n"
     ]
    }
   ],
   "source": [
    "# 2x4 matrix of all ones\n",
    "import numpy as np\n",
    "e = np.ones((2,4))\n",
    "print (e)"
   ]
  },
  {
   "cell_type": "code",
   "execution_count": 143,
   "metadata": {},
   "outputs": [
    {
     "data": {
      "text/plain": [
       "array([[ 0.,  0.,  0.,  0.],\n",
       "       [ 0.,  0.,  0.,  0.],\n",
       "       [ 1.,  1.,  1.,  1.],\n",
       "       [ 1.,  1.,  1.,  1.]])"
      ]
     },
     "execution_count": 143,
     "metadata": {},
     "output_type": "execute_result"
    }
   ],
   "source": [
    "# vertically stacking two arrays\n",
    "import numpy as np\n",
    "np.vstack([d,e])"
   ]
  },
  {
   "cell_type": "code",
   "execution_count": 144,
   "metadata": {},
   "outputs": [
    {
     "data": {
      "text/plain": [
       "array([[ 0.,  0.,  0.,  0.,  1.,  1.,  1.,  1.],\n",
       "       [ 0.,  0.,  0.,  0.,  1.,  1.,  1.,  1.]])"
      ]
     },
     "execution_count": 144,
     "metadata": {},
     "output_type": "execute_result"
    }
   ],
   "source": [
    "# horizontally stacking two arrays\n",
    "import numpy as np\n",
    "np.hstack([d,e])"
   ]
  },
  {
   "cell_type": "code",
   "execution_count": 145,
   "metadata": {},
   "outputs": [
    {
     "data": {
      "text/plain": [
       "array([[ 3,  5,  7,  9],\n",
       "       [11, 13, 15, 17]])"
      ]
     },
     "execution_count": 145,
     "metadata": {},
     "output_type": "execute_result"
    }
   ],
   "source": [
    "# create an array of evenly spaced values within a given interval\n",
    "# then reshape it to a two-dimensional array\n",
    "import numpy as np\n",
    "np.arange(3,19,2).reshape(2,4)"
   ]
  },
  {
   "cell_type": "code",
   "execution_count": 146,
   "metadata": {},
   "outputs": [
    {
     "name": "stdout",
     "output_type": "stream",
     "text": [
      "Matrix shape: (2, 4)\n",
      "Element in location (0,0) is 0.1604738821040409\n",
      "Element in location (0,1) is 0.3805534605480865\n",
      "Element in location (0,2) is 0.8419447723629999\n",
      "Element in location (0,3) is 0.010860212568047367\n",
      "Element in location (1,0) is 0.49066996047978306\n",
      "Element in location (1,1) is 0.9698252875529587\n",
      "Element in location (1,2) is 0.24776740317872192\n",
      "Element in location (1,3) is 0.7765216989108022\n"
     ]
    }
   ],
   "source": [
    "# create a 2x4 matrix of random numbers\n",
    "import numpy as np\n",
    "f = np.random.random((2,4))\n",
    "print (\"Matrix shape:\",f.shape)\n",
    "\n",
    "rows = f.shape[0]\n",
    "cols = f.shape[1]\n",
    "\n",
    "for x in range(rows):\n",
    "    for y in range(cols):\n",
    "        print (\"Element in location ({},{}) is {}\".format(x,y,f[x,y]))"
   ]
  },
  {
   "cell_type": "code",
   "execution_count": 147,
   "metadata": {},
   "outputs": [
    {
     "data": {
      "text/plain": [
       "7"
      ]
     },
     "execution_count": 147,
     "metadata": {},
     "output_type": "execute_result"
    }
   ],
   "source": [
    "# a function that takes two numbers and adds them together.\n",
    "def add_numbers(x, y):\n",
    "    return x + y\n",
    "\n",
    "add_numbers(5, 2)"
   ]
  },
  {
   "cell_type": "code",
   "execution_count": 148,
   "metadata": {},
   "outputs": [
    {
     "name": "stdout",
     "output_type": "stream",
     "text": [
      "3\n",
      "9\n"
     ]
    }
   ],
   "source": [
    "# updated to take an optional 3rd parameter\n",
    "def add_numbers(x,y,z=None):\n",
    "    if (z==None):\n",
    "        return x+y\n",
    "    else:\n",
    "        return x+y+z\n",
    "\n",
    "print(add_numbers(1, 2))\n",
    "print(add_numbers(1, 5, 3))"
   ]
  },
  {
   "cell_type": "markdown",
   "metadata": {},
   "source": [
    "In the cell below, finish code for a function that uses loops, scalar multiplication, and addition to perform matrix multiplication. "
   ]
  },
  {
   "cell_type": "code",
   "execution_count": 149,
   "metadata": {
    "collapsed": true
   },
   "outputs": [],
   "source": [
    "# returns x*y\n",
    "\n",
    "def mult_2D_matrices(x,y):\n",
    "    # check compatibility for multiplication\n",
    "    if(len(x[0])!=len(y)):\n",
    "        return \"can not multiply these\"\n",
    "    else:\n",
    "        multiply=np.zeros((len(x),len(y[0])))\n",
    "    \n",
    "        print (multiply)\n",
    "    \n",
    "    # use for loops and basic arithmetic to compute the solution\n",
    "    for i in range(len(x)):\n",
    "            for j in range(len(y[0])):\n",
    "                for k in range(len(y)):\n",
    "                    multiply[i][j] = multiply[i][j] + (x[i][k] * y[k][j])\n",
    "        \n",
    "    for l in multiply:\n",
    "        return multiply\n",
    "    \n"
   ]
  },
  {
   "cell_type": "markdown",
   "metadata": {},
   "source": [
    "Test your function by running the code below."
   ]
  },
  {
   "cell_type": "code",
   "execution_count": 150,
   "metadata": {},
   "outputs": [
    {
     "name": "stdout",
     "output_type": "stream",
     "text": [
      "[[  58.   64.]\n",
      " [ 139.  154.]]\n"
     ]
    }
   ],
   "source": [
    "import numpy as np\n",
    "def mult_2D_matrices(x,y):\n",
    "     \n",
    "    if(len(x[0])!=len(y)):\n",
    "        return \"can not multiply these\"\n",
    "    else:\n",
    "        multiply=np.zeros((len(x),len(y[0])))\n",
    "        #print (multiply)\n",
    "        for i in range(len(x)):\n",
    "            for j in range(len(y[0])):\n",
    "                for k in range(len(y)):\n",
    "                    multiply[i][j] = multiply[i][j] + (x[i][k] * y[k][j])\n",
    "        \n",
    "        for l in multiply:\n",
    "            return multiply\n",
    "\n",
    "m1 = np.array([[1, 2, 3],[4, 5, 6]])\n",
    "m2 = np.array([[7,8],[9,10],[11,12]])\n",
    "print (mult_2D_matrices(m1,m2))\n",
    "\n",
    "# answer should be:\n",
    "#  58  64\n",
    "# 139 154"
   ]
  },
  {
   "cell_type": "code",
   "execution_count": null,
   "metadata": {},
   "outputs": [
    {
     "name": "stdout",
     "output_type": "stream",
     "text": [
      "can not multiply these\n"
     ]
    }
   ],
   "source": [
    "\n",
    "m3 = np.array([[1, 2, 3],[4, 5, 6]])\n",
    "print (mult_2D_matrices(m1,m3))\n",
    "\n",
    "# can't multiply these"
   ]
  },
  {
   "cell_type": "code",
   "execution_count": 152,
   "metadata": {},
   "outputs": [
    {
     "name": "stdout",
     "output_type": "stream",
     "text": [
      "[[ 30.  36.  42.]\n",
      " [ 66.  81.  96.]]\n"
     ]
    }
   ],
   "source": [
    "def mult_2D_matrices(x,y):\n",
    "    # check compatibility for multiplication\n",
    "    if(len(x[0])!=len(y)):\n",
    "        return \"can not multiply these\"\n",
    "    else:\n",
    "        multiply=np.zeros((len(x),len(y[0])))\n",
    "        \n",
    "        #print (multiply)\n",
    "    \n",
    "    # use for loops and basic arithmetic to compute the solution\n",
    "    for i in range(len(x)):\n",
    "            for j in range(len(y[0])):\n",
    "                for k in range(len(y)):\n",
    "                    multiply[i][j] = multiply[i][j] + (x[i][k] * y[k][j])\n",
    "        \n",
    "    for l in multiply:\n",
    "        return multiply\n",
    "m4 = np.array([[1,2,3],[4,5,6],[7,8,9]])\n",
    "print (mult_2D_matrices(m1,m4))\n",
    "\n",
    "# answer should be: \n",
    "# 30 36 42\n",
    "# 66 81 96"
   ]
  },
  {
   "cell_type": "markdown",
   "metadata": {},
   "source": [
    "### NumPy Part 2  (20 pts)\n",
    "\n",
    "Use your own knowledge and online resources to write a better version of the matrix multiplication function."
   ]
  },
  {
   "cell_type": "code",
   "execution_count": 153,
   "metadata": {
    "collapsed": true
   },
   "outputs": [],
   "source": [
    "#Write function here\n",
    "import numpy as np\n",
    "def better_mult_2D_matrices(x,y):\n",
    "    if(x.shape[1]!=y.shape[0]):\n",
    "        return \"can not multiply these\"\n",
    "    else:\n",
    "        return x*y"
   ]
  },
  {
   "cell_type": "markdown",
   "metadata": {},
   "source": [
    "Test your fucntion using the same matrices as before"
   ]
  },
  {
   "cell_type": "code",
   "execution_count": 154,
   "metadata": {},
   "outputs": [
    {
     "name": "stdout",
     "output_type": "stream",
     "text": [
      "[[ 58  64]\n",
      " [139 154]]\n"
     ]
    }
   ],
   "source": [
    "# replace function name below with the\n",
    "m1 = np.matrix([[1, 2, 3],[4, 5, 6]])\n",
    "m2 = np.matrix([[7,8],[9,10],[11,12]]) \n",
    "print (better_mult_2D_matrices(m1,m2))\n",
    "\n",
    "# answer should be:\n",
    "#  58  64\n",
    "# 139 154"
   ]
  },
  {
   "cell_type": "code",
   "execution_count": 155,
   "metadata": {},
   "outputs": [
    {
     "name": "stdout",
     "output_type": "stream",
     "text": [
      "can not multiply these\n"
     ]
    }
   ],
   "source": [
    "m3 = np.matrix([[1, 2, 3],[4, 5, 6]])\n",
    "print (better_mult_2D_matrices(m1,m3))\n",
    "\n",
    "# can't multiply these"
   ]
  },
  {
   "cell_type": "code",
   "execution_count": 156,
   "metadata": {},
   "outputs": [
    {
     "name": "stdout",
     "output_type": "stream",
     "text": [
      "[[30 36 42]\n",
      " [66 81 96]]\n"
     ]
    }
   ],
   "source": [
    "m4 = np.matrix([[1,2,3],[4,5,6],[7,8,9]])\n",
    "print (better_mult_2D_matrices(m1,m4))\n",
    "\n",
    "# answer should be: \n",
    "# 30 36 42\n",
    "# 66 81 96"
   ]
  },
  {
   "cell_type": "markdown",
   "metadata": {},
   "source": [
    "### Matplotlib (20 pts)\n",
    "\n",
    "Introduction\n",
    "\n",
    "Documentation; http://matplotlib.org/"
   ]
  },
  {
   "cell_type": "code",
   "execution_count": 157,
   "metadata": {
    "collapsed": true
   },
   "outputs": [],
   "source": [
    "# standard way to import pyplot\n",
    "import matplotlib.pyplot as plt"
   ]
  },
  {
   "cell_type": "code",
   "execution_count": 158,
   "metadata": {},
   "outputs": [
    {
     "data": {
      "image/png": "[encoded data removed]",
      "text/plain": [
       "<matplotlib.figure.Figure at 0x23eb5190f98>"
      ]
     },
     "metadata": {},
     "output_type": "display_data"
    }
   ],
   "source": [
    "n_groups = 5\n",
    "\n",
    "means_men = (20, 35, 30, 35, 27)\n",
    "std_men = (2, 3, 4, 1, 2)\n",
    "\n",
    "means_women = (25, 32, 34, 20, 25)\n",
    "std_women = (3, 5, 2, 3, 3)\n",
    "\n",
    "fig, ax = plt.subplots()\n",
    "\n",
    "index = np.arange(n_groups)\n",
    "bar_width = 0.35\n",
    "\n",
    "opacity = 0.4\n",
    "error_config = {'ecolor': '0.3'}\n",
    "\n",
    "rects1 = plt.bar(index, means_men, bar_width,\n",
    "                 alpha=opacity,\n",
    "                 color='b',\n",
    "                 yerr=std_men,\n",
    "                 error_kw=error_config,\n",
    "                 label='Men')\n",
    "\n",
    "rects2 = plt.bar(index + bar_width, means_women, bar_width,\n",
    "                 alpha=opacity,\n",
    "                 color='r',\n",
    "                 yerr=std_women,\n",
    "                 error_kw=error_config,\n",
    "                 label='Women')\n",
    "\n",
    "plt.xlabel('Group')\n",
    "plt.ylabel('Scores')\n",
    "plt.title('Scores by group and gender')\n",
    "plt.xticks(index + bar_width / 2, ('A', 'B', 'C', 'D', 'E'))\n",
    "plt.legend()\n",
    "\n",
    "plt.tight_layout()\n",
    "plt.show()"
   ]
  },
  {
   "cell_type": "code",
   "execution_count": 159,
   "metadata": {},
   "outputs": [
    {
     "data": {
      "image/png": "[encoded data removed]",
      "text/plain": [
       "<matplotlib.figure.Figure at 0x23eb50c8eb8>"
      ]
     },
     "metadata": {},
     "output_type": "display_data"
    }
   ],
   "source": [
    "x = np.random.randn(1000)\n",
    "y = np.random.randn(1000) + 5\n",
    "\n",
    "# normal distribution center at x=0 and y=5\n",
    "plt.hist2d(x, y, bins=40)\n",
    "plt.show()"
   ]
  },
  {
   "cell_type": "markdown",
   "metadata": {},
   "source": [
    "Test instructions"
   ]
  },
  {
   "cell_type": "code",
   "execution_count": 160,
   "metadata": {
    "scrolled": true
   },
   "outputs": [
    {
     "data": {
      "image/png": "[encoded data removed]",
      "text/plain": [
       "<matplotlib.figure.Figure at 0x23eb3596dd8>"
      ]
     },
     "metadata": {},
     "output_type": "display_data"
    }
   ],
   "source": [
    "# Make a legend for specific lines.\n",
    "import matplotlib.pyplot as plt\n",
    "import numpy as np\n",
    "\n",
    "\n",
    "t1 = np.arange(0.0, 2.0, 0.1)\n",
    "t2 = np.arange(0.0, 2.0, 0.01)\n",
    "\n",
    "# note that plot returns a list of lines.  The \"l1, = plot\" usage\n",
    "# extracts the first element of the list into l1 using tuple\n",
    "# unpacking.  So l1 is a Line2D instance, not a sequence of lines\n",
    "l1, = plt.plot(t2, np.exp(-t2))\n",
    "l2, l3 = plt.plot(t2, np.sin(2 * np.pi * t2), '--o', t1, np.log(1 + t1), '.')\n",
    "l4, = plt.plot(t2, np.exp(-t2) * np.sin(2 * np.pi * t2), 's-.')\n",
    "\n",
    "plt.legend((l2, l4), ('oscillatory', 'damped'), loc='upper right', shadow=True)\n",
    "plt.xlabel('time')\n",
    "plt.ylabel('volts')\n",
    "plt.title('Damped oscillation')\n",
    "plt.show()"
   ]
  },
  {
   "cell_type": "code",
   "execution_count": 161,
   "metadata": {},
   "outputs": [
    {
     "data": {
      "image/png": "[encoded data removed]",
      "text/plain": [
       "<matplotlib.figure.Figure at 0x23eb3ca4a58>"
      ]
     },
     "metadata": {},
     "output_type": "display_data"
    }
   ],
   "source": [
    "x = np.random.randn(5000)\n",
    "\n",
    "# Make a normed histogram.\n",
    "plt.hist(x, bins=50, normed=True)\n",
    "\n",
    "plt.show()"
   ]
  },
  {
   "cell_type": "markdown",
   "metadata": {},
   "source": [
    "Pick a polynominal function an generate 500 random points (uniform distribution) along the function for a range of your choice. To each of those points, add some random noise (normal distribution).\n",
    "\n",
    "Plot the points and the function and include a appropriate axes labels, a title, and a legend."
   ]
  },
  {
   "cell_type": "code",
   "execution_count": 162,
   "metadata": {},
   "outputs": [
    {
     "data": {
      "image/png": "[encoded data removed]",
      "text/plain": [
       "<matplotlib.figure.Figure at 0x23eb3596c88>"
      ]
     },
     "metadata": {},
     "output_type": "display_data"
    }
   ],
   "source": [
    "# write code here\n",
    "import matplotlib.pyplot as plt\n",
    "import numpy as np\n",
    "import pylab\n",
    "\n",
    "x= np.arange(-5,5,.1)\n",
    "y=np.abs(x*x*x)\n",
    "\n",
    "z=np.polyfit(x,y,5)\n",
    "p=np.poly1d(z)\n",
    "\n",
    "xp=np.linspace(-5,6,50)\n",
    "line = plt.plot(x, y, 'o', xp, p(xp), '--', xp, p(xp), '.')\n",
    "\n",
    "plt.legend((l2, l1), ('data', 'noise'), loc='upper right', shadow=True)\n",
    "plt.ylim(-5,130)\n",
    "\n",
    "plt.xlabel('X coordinate')\n",
    "plt.ylabel('Y coordinate')\n",
    "plt.title('Polynomial & Noise data')\n",
    "plt.show()\n"
   ]
  },
  {
   "cell_type": "markdown",
   "metadata": {},
   "source": [
    "Generate and plot a histogram with 10 bin of the squared error of your data, and generate and plot a histogram with 25 bin of the noise in your data. Give each plot appropriate axes and a title."
   ]
  },
  {
   "cell_type": "code",
   "execution_count": 163,
   "metadata": {},
   "outputs": [
    {
     "data": {
      "image/png": "[encoded data removed]",
      "text/plain": [
       "<matplotlib.figure.Figure at 0x23eb376a9b0>"
      ]
     },
     "metadata": {},
     "output_type": "display_data"
    }
   ],
   "source": [
    "# write code here\n",
    "\n",
    "import matplotlib.pyplot as plt\n",
    "import numpy as np\n",
    "import pylab\n",
    "\n",
    "x= np.arange(-5,5,.1)\n",
    "y=np.abs(x*x*x)\n",
    "\n",
    "se=(x-y)**2\n",
    "# x = np.random.randn(5000)\n",
    "\n",
    "# Make a normed histogram.\n",
    "plt.hist(se, bins=10, alpha=0.2, label=['x'])\n",
    "\n",
    "\n",
    "plt.hist(y,bins=25,alpha=0.7,label=['y'])\n",
    "\n",
    "\n",
    "plt.xlabel('X-coordinates')\n",
    "plt.ylabel('Y-coordinates')\n",
    "plt.title('Squared Error & Noise')\n",
    "# plt.xticks(index + bar_width / 2, ('A', 'B', 'C', 'D', 'E'))\n",
    "plt.legend(('data', 'noise'),loc='upper right')\n",
    "\n",
    "plt.tight_layout()\n",
    "plt.show()"
   ]
  },
  {
   "cell_type": "code",
   "execution_count": null,
   "metadata": {
    "collapsed": true
   },
   "outputs": [],
   "source": []
  }
 ],
 "metadata": {
  "kernelspec": {
   "display_name": "Python 3",
   "language": "python",
   "name": "python3"
  },
  "language_info": {
   "codemirror_mode": {
    "name": "ipython",
    "version": 3
   },
   "file_extension": ".py",
   "mimetype": "text/x-python",
   "name": "python",
   "nbconvert_exporter": "python",
   "pygments_lexer": "ipython3",
   "version": "3.6.1"
  }
 },
 "nbformat": 4,
 "nbformat_minor": 2
}
