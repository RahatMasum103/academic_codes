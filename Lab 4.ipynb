{
 "cells": [
  {
   "cell_type": "markdown",
   "metadata": {},
   "source": [
    "# Lab 4: Basic data exploration, logistic regression, and basic evaluation\n",
    "\n",
    "#### We will start by importing numpy, pandas, and matplotlib. (We will import other libraries/packages as we need them.) We will also read our spambase csv file into a pandas dataframe."
   ]
  },
  {
   "cell_type": "code",
   "execution_count": 23,
   "metadata": {
    "collapsed": true
   },
   "outputs": [],
   "source": [
    "import numpy as np\n",
    "import pandas as pd\n",
    "import matplotlib.pyplot as plt\n",
    "\n",
    "spambase = pd.read_csv('spambase.csv')"
   ]
  },
  {
   "cell_type": "markdown",
   "metadata": {},
   "source": [
    "#### Let's take a quick look at what we read in."
   ]
  },
  {
   "cell_type": "code",
   "execution_count": 24,
   "metadata": {},
   "outputs": [
    {
     "name": "stdout",
     "output_type": "stream",
     "text": [
      "Spam database columns\n",
      "Index(['word_freq_make', 'word_freq_address', 'word_freq_all', 'word_freq_3d',\n",
      "       'word_freq_our', 'word_freq_over', 'word_freq_remove',\n",
      "       'word_freq_internet', 'word_freq_order', 'word_freq_mail',\n",
      "       'word_freq_receive', 'word_freq_will', 'word_freq_people',\n",
      "       'word_freq_report', 'word_freq_addresses', 'word_freq_free',\n",
      "       'word_freq_business', 'word_freq_email', 'word_freq_you',\n",
      "       'word_freq_credit', 'word_freq_your', 'word_freq_font', 'word_freq_000',\n",
      "       'word_freq_money', 'word_freq_hp', 'word_freq_hpl', 'word_freq_george',\n",
      "       'word_freq_650', 'word_freq_lab', 'word_freq_labs', 'word_freq_telnet',\n",
      "       'word_freq_857', 'word_freq_data', 'word_freq_415', 'word_freq_85',\n",
      "       'word_freq_technology', 'word_freq_1999', 'word_freq_parts',\n",
      "       'word_freq_pm', 'word_freq_direct', 'word_freq_cs', 'word_freq_meeting',\n",
      "       'word_freq_original', 'word_freq_project', 'word_freq_re',\n",
      "       'word_freq_edu', 'word_freq_table', 'word_freq_conference',\n",
      "       'char_freq_;', 'char_freq_(', 'char_freq_[', 'char_freq_!',\n",
      "       'char_freq_$', 'char_freq_#', 'capital_run_length_average',\n",
      "       'capital_run_length_longest', 'capital_run_length_total', 'spam_class'],\n",
      "      dtype='object')\n",
      "\n",
      "\n",
      "Mean of column values grouped by spam class:\n",
      "            word_freq_make  word_freq_address  word_freq_all  word_freq_3d  \\\n",
      "spam_class                                                                   \n",
      "0                 0.073479           0.244466       0.200581      0.000886   \n",
      "1                 0.152339           0.164650       0.403795      0.164672   \n",
      "\n",
      "            word_freq_our  word_freq_over  word_freq_remove  \\\n",
      "spam_class                                                    \n",
      "0                0.181040        0.044544          0.009383   \n",
      "1                0.513955        0.174876          0.275405   \n",
      "\n",
      "            word_freq_internet  word_freq_order  word_freq_mail  \\\n",
      "spam_class                                                        \n",
      "0                     0.038415         0.038049        0.167170   \n",
      "1                     0.208141         0.170061        0.350507   \n",
      "\n",
      "                      ...             word_freq_conference  char_freq_;  \\\n",
      "spam_class            ...                                                 \n",
      "0                     ...                         0.051227     0.050281   \n",
      "1                     ...                         0.002101     0.020573   \n",
      "\n",
      "            char_freq_(  char_freq_[  char_freq_!  char_freq_$  char_freq_#  \\\n",
      "spam_class                                                                    \n",
      "0              0.158578     0.022684     0.109984     0.011648     0.021713   \n",
      "1              0.108970     0.008199     0.513713     0.174478     0.078877   \n",
      "\n",
      "            capital_run_length_average  capital_run_length_longest  \\\n",
      "spam_class                                                           \n",
      "0                             2.377301                   18.214491   \n",
      "1                             9.519165                  104.393271   \n",
      "\n",
      "            capital_run_length_total  \n",
      "spam_class                            \n",
      "0                         161.470947  \n",
      "1                         470.619415  \n",
      "\n",
      "[2 rows x 57 columns]\n",
      "\n",
      "\n",
      "Frequency of word_fred_money values by class:\n",
      "spam_class       False  True \n",
      "word_freq_money              \n",
      "0.00              2734   1132\n",
      "0.02                 0      2\n",
      "0.03                 1      0\n",
      "0.04                 0      3\n",
      "0.05                 2     14\n",
      "0.06                 2     10\n",
      "0.07                 1      3\n",
      "0.08                 2     26\n",
      "0.09                 1     22\n",
      "0.10                 1     16\n",
      "0.11                 0      2\n",
      "0.12                 1      7\n",
      "0.13                 1      0\n",
      "0.14                 0      3\n",
      "0.15                 0      1\n",
      "0.16                 2      8\n",
      "0.17                 1     12\n",
      "0.18                 0     10\n",
      "0.19                 0     10\n",
      "0.20                 0     17\n",
      "0.21                 0      3\n",
      "0.22                 1     12\n",
      "0.23                 1      7\n",
      "0.24                 1      5\n",
      "0.25                 0      3\n",
      "0.26                 0      9\n",
      "0.27                 0      8\n",
      "0.28                 1      7\n",
      "0.29                 0     13\n",
      "0.30                 0     23\n",
      "...                ...    ...\n",
      "1.36                 0      2\n",
      "1.38                 0      6\n",
      "1.40                 0      1\n",
      "1.41                 0      1\n",
      "1.42                 0      1\n",
      "1.46                 0      1\n",
      "1.47                 0      2\n",
      "1.50                 0      1\n",
      "1.56                 0      1\n",
      "1.60                 1      0\n",
      "1.61                 0      1\n",
      "1.66                 1      0\n",
      "1.69                 1      0\n",
      "1.73                 1      0\n",
      "1.83                 1      0\n",
      "1.88                 0      3\n",
      "1.94                 0      1\n",
      "1.96                 0      1\n",
      "2.04                 0      1\n",
      "2.32                 0      1\n",
      "2.45                 0      1\n",
      "3.33                 0      1\n",
      "3.61                 0      1\n",
      "4.16                 0      1\n",
      "4.41                 0      2\n",
      "5.98                 0      1\n",
      "6.66                 0      3\n",
      "9.09                 1      1\n",
      "9.75                 1      0\n",
      "12.50                0      1\n",
      "\n",
      "[143 rows x 2 columns]\n"
     ]
    }
   ],
   "source": [
    "# data exploration\n",
    "\n",
    "# print the columns that were read in\n",
    "print ('Spam database columns')\n",
    "print (spambase.columns)\n",
    "\n",
    "# show the mean of the values by class\n",
    "print ('\\n\\nMean of column values grouped by spam class:')\n",
    "print (spambase.groupby('spam_class').mean())\n",
    "\n",
    "# crosstab of spam_class and word_freq_money\n",
    "# this prints the frequencies of the various values of the feature word_freq_money by class\n",
    "print ('\\n\\nFrequency of word_fred_money values by class:')\n",
    "print(pd.crosstab(spambase.word_freq_money, spambase.spam_class.astype(bool)))\n",
    "\n"
   ]
  },
  {
   "cell_type": "markdown",
   "metadata": {},
   "source": [
    "#### Let's use some charts and graphs to visualize the data."
   ]
  },
  {
   "cell_type": "code",
   "execution_count": 25,
   "metadata": {},
   "outputs": [
    {
     "data": {
      "image/png": "[encoded data removed]",
      "text/plain": [
       "<matplotlib.figure.Figure at 0x188d09ae8d0>"
      ]
     },
     "metadata": {},
     "output_type": "display_data"
    }
   ],
   "source": [
    "# visualize data\n",
    "\n",
    "\n",
    "# generate a pie chart showing the distribution of the two classes\n",
    "spam_size = spambase[spambase['spam_class']==1].shape[0]\n",
    "nonspam_size = spambase[spambase['spam_class']==0].shape[0]\n",
    "labels = 'Spam', 'Not spam'\n",
    "sizes = [spam_size, nonspam_size]\n",
    "explode = (0.1, 0)  # only \"explode\" the 1st slice (i.e. 'Spam')\n",
    "\n",
    "fig1, ax1 = plt.subplots()\n",
    "ax1.pie(sizes, explode=explode, labels=labels, autopct='%1.1f%%',\n",
    "        shadow=True, startangle=90)\n",
    "ax1.axis('equal')  # Equal aspect ratio ensures that pie is drawn as a circle.\n",
    "\n",
    "plt.show()"
   ]
  },
  {
   "cell_type": "code",
   "execution_count": 26,
   "metadata": {},
   "outputs": [
    {
     "data": {
      "image/png": "[encoded data removed]",
      "text/plain": [
       "<matplotlib.figure.Figure at 0x188d11700b8>"
      ]
     },
     "metadata": {},
     "output_type": "display_data"
    },
    {
     "data": {
      "image/png": "[encoded data removed]",
      "text/plain": [
       "<matplotlib.figure.Figure at 0x188ce42c630>"
      ]
     },
     "metadata": {},
     "output_type": "display_data"
    }
   ],
   "source": [
    "# histogram of values for the feature 'word_freq_money' for the class 'spam'\n",
    "spambase[spambase['spam_class']==1].word_freq_money.hist(bins=50)\n",
    "plt.title('Histogram of word_freq_money for spam')\n",
    "plt.xlabel('Run total')\n",
    "plt.ylabel('Frequency')\n",
    "plt.show()\n",
    "\n",
    "# histogram of values for the feature 'word_freq_money' for the class 'not spam'\n",
    "spambase[spambase['spam_class']==0].word_freq_money.hist(bins=50)\n",
    "plt.title('Histogram of word_freq_money for not spam')\n",
    "plt.xlabel('Run total')\n",
    "plt.ylabel('Frequency')\n",
    "plt.show()\n"
   ]
  },
  {
   "cell_type": "code",
   "execution_count": 27,
   "metadata": {},
   "outputs": [
    {
     "data": {
      "image/png": "[encoded data removed]",
      "text/plain": [
       "<matplotlib.figure.Figure at 0x188ce2c7da0>"
      ]
     },
     "metadata": {},
     "output_type": "display_data"
    }
   ],
   "source": [
    "# one histogram for each class of values of feature 'word_freq_000'\n",
    "spambase.word_freq_000.hist(by=spambase['spam_class'],bins=50)\n",
    "plt.show()"
   ]
  },
  {
   "cell_type": "code",
   "execution_count": 28,
   "metadata": {},
   "outputs": [
    {
     "data": {
      "image/png": "[encoded data removed]",
      "text/plain": [
       "<matplotlib.figure.Figure at 0x188d0998588>"
      ]
     },
     "metadata": {},
     "output_type": "display_data"
    },
    {
     "data": {
      "image/png": "[encoded data removed]",
      "text/plain": [
       "<matplotlib.figure.Figure at 0x188cea93ac8>"
      ]
     },
     "metadata": {},
     "output_type": "display_data"
    },
    {
     "data": {
      "image/png": "[encoded data removed]",
      "text/plain": [
       "<matplotlib.figure.Figure at 0x188d11ebb00>"
      ]
     },
     "metadata": {},
     "output_type": "display_data"
    }
   ],
   "source": [
    "# kernel density estimation plot for feature 'word_freq_000' first both classes on same graph then separately\n",
    "\n",
    "# a kernel density estimation plot estimates what the probability density function that would generat\n",
    "# the observed values would look like\n",
    "\n",
    "spambase.groupby('spam_class').word_freq_000.plot(kind='kde')\n",
    "plt.title('Kernel density estimation plot for word_freq_000 (both classes)')\n",
    "plt.show()\n",
    "\n",
    "spambase[spambase['spam_class']==1].word_freq_000.plot(kind='kde')\n",
    "plt.title('Kernel density estimation plot for word_freq_000 (spam class)')\n",
    "plt.show()\n",
    "\n",
    "spambase[spambase['spam_class']==0].word_freq_000.plot(kind='kde')\n",
    "plt.title('Kernel density estimation plot for word_freq_000 (not spam class)')\n",
    "plt.show()"
   ]
  },
  {
   "cell_type": "markdown",
   "metadata": {},
   "source": [
    "#### Now let's do our logistic regression"
   ]
  },
  {
   "cell_type": "code",
   "execution_count": 29,
   "metadata": {},
   "outputs": [
    {
     "name": "stdout",
     "output_type": "stream",
     "text": [
      "Score on training data: 0.932880434783\n",
      "Score on test data: 0.909880564604\n"
     ]
    }
   ],
   "source": [
    "from sklearn.linear_model import LogisticRegression\n",
    "from sklearn.model_selection import train_test_split\n",
    "# first we need to prepare the data\n",
    "\n",
    "# add an intercept column\n",
    "spambase['_intercept'] = 1\n",
    "\n",
    "# Copy spambase across and drop spam_class (we don't include the class feature in the training data)\n",
    "X = spambase\n",
    "X = X.drop('spam_class', axis=1)\n",
    "\n",
    "\n",
    "\n",
    "# Set y as the spam column, we need to wrap it in the dataframe to stop it being series \n",
    "y = pd.DataFrame(spambase.spam_class)\n",
    "\n",
    "# flatten y into a 1-D array\n",
    "y = np.ravel(y)\n",
    "\n",
    "# now split the data into training data and test data (80/20 split)\n",
    "# random_state = k sets a specific random seed\n",
    "# since random_state is fixed, this call will always produce the same split\n",
    "# if you leave out the random_state value, you will get a different random split when you run it agaimn\n",
    "X_train, X_test, y_train, y_test = train_test_split(X, y, test_size=0.2, random_state=0)\n",
    "\n",
    "# create our model and fit it to our training data\n",
    "# the large C value essentail turns off regularization (which we will cover later)\n",
    "# ignore it for now\n",
    "logres = LogisticRegression(C = 1e9)\n",
    "logres.fit(X_train,y_train)\n",
    "\n",
    "# let's check our training and test accuracy\n",
    "train_score = logres.score(X_train, y_train)\n",
    "test_score = logres.score(X_test, y_test)\n",
    "\n",
    "print (\"Score on training data:\", train_score)\n",
    "print (\"Score on test data:\", test_score)"
   ]
  },
  {
   "cell_type": "markdown",
   "metadata": {},
   "source": [
    "#### In the cell below, write code that computes and prints the mean of the training and test errors for ten RANDOM train/test splits"
   ]
  },
  {
   "cell_type": "code",
   "execution_count": 30,
   "metadata": {},
   "outputs": [
    {
     "name": "stdout",
     "output_type": "stream",
     "text": [
      "Score on training data: 0.93125\n",
      "Score on test data: 0.932681867535\n",
      "Score on training data: 0.935326086957\n",
      "Score on test data: 0.933767643865\n",
      "Score on training data: 0.927717391304\n",
      "Score on test data: 0.922909880565\n",
      "Score on training data: 0.933423913043\n",
      "Score on test data: 0.931596091205\n",
      "Score on training data: 0.93152173913\n",
      "Score on test data: 0.928338762215\n",
      "Score on training data: 0.930163043478\n",
      "Score on test data: 0.937024972856\n",
      "Score on training data: 0.93152173913\n",
      "Score on test data: 0.913137893594\n",
      "Score on training data: 0.93125\n",
      "Score on test data: 0.917480998914\n",
      "Score on training data: 0.926902173913\n",
      "Score on test data: 0.937024972856\n",
      "\n",
      "\n",
      "mean of training error  0.073097826087\n",
      "mean of test error 0.0629750271444\n"
     ]
    }
   ],
   "source": [
    "# compute and print the mean of the training and test errors for ten RANDOM train/test splits\n",
    "\n",
    "for i in range(1,10):\n",
    "    X_train, X_test, y_train, y_test = train_test_split(X, y, test_size=0.2, random_state=i)\n",
    "    logres = LogisticRegression(C = 1e9)\n",
    "    logres.fit(X_train,y_train)\n",
    "\n",
    "    train_score = logres.score(X_train, y_train)\n",
    "    test_score = logres.score(X_test, y_test)\n",
    "    \n",
    "    train_err = 1-train_score\n",
    "    test_err = 1- test_score    \n",
    "\n",
    "    print (\"Score on training data:\", train_score)\n",
    "    print (\"Score on test data:\", test_score)\n",
    "    \n",
    "#     print (i)\n",
    "\n",
    "train_mean=train_err.mean()\n",
    "test_mean=test_err.mean()\n",
    "\n",
    "print (\"\\n\")\n",
    "print (\"mean of training error \",train_mean)\n",
    "print (\"mean of test error\",test_mean)\n",
    "\n",
    "# insert code here"
   ]
  },
  {
   "cell_type": "markdown",
   "metadata": {},
   "source": [
    "#### Let's look and try to understand our model's coefficients"
   ]
  },
  {
   "cell_type": "code",
   "execution_count": 31,
   "metadata": {},
   "outputs": [
    {
     "name": "stdout",
     "output_type": "stream",
     "text": [
      "m: 58\n",
      "-0.308762054804  *  word_freq_make\n",
      "-0.142084495633  *  word_freq_address\n",
      "0.158220052469  *  word_freq_all\n",
      "1.8828998571  *  word_freq_3d\n",
      "0.61428185556  *  word_freq_our\n",
      "0.768618764478  *  word_freq_over\n",
      "2.34501394701  *  word_freq_remove\n",
      "0.514412164538  *  word_freq_internet\n",
      "0.654060509072  *  word_freq_order\n",
      "0.0766096825861  *  word_freq_mail\n",
      "0.245550954239  *  word_freq_receive\n",
      "-0.114543662897  *  word_freq_will\n",
      "-0.0888295899836  *  word_freq_people\n",
      "0.177355921616  *  word_freq_report\n",
      "1.01470059315  *  word_freq_addresses\n",
      "0.831010637826  *  word_freq_free\n",
      "0.860234578868  *  word_freq_business\n",
      "-0.0574466293609  *  word_freq_email\n",
      "0.0909931423934  *  word_freq_you\n",
      "0.685775236204  *  word_freq_credit\n",
      "0.272038841334  *  word_freq_your\n",
      "0.18514242033  *  word_freq_font\n",
      "2.04587724131  *  word_freq_000\n",
      "0.430750989878  *  word_freq_money\n",
      "-1.92728868065  *  word_freq_hp\n",
      "-1.29310637814  *  word_freq_hpl\n",
      "-17.037932047  *  word_freq_george\n",
      "0.607917512107  *  word_freq_650\n",
      "-2.18068749157  *  word_freq_lab\n",
      "-0.426336114497  *  word_freq_labs\n",
      "-0.01425390732  *  word_freq_telnet\n",
      "1.54408798324  *  word_freq_857\n",
      "-0.91253097263  *  word_freq_data\n",
      "0.781804414095  *  word_freq_415\n",
      "-3.59866401564  *  word_freq_85\n",
      "1.09710997679  *  word_freq_technology\n",
      "0.17192625062  *  word_freq_1999\n",
      "0.793085313924  *  word_freq_parts\n",
      "-0.799820271122  *  word_freq_pm\n",
      "-0.334475886938  *  word_freq_direct\n",
      "-6.51302145888  *  word_freq_cs\n",
      "-3.18187854766  *  word_freq_meeting\n",
      "-1.33515463048  *  word_freq_original\n",
      "-1.27118510242  *  word_freq_project\n",
      "-0.765367721019  *  word_freq_re\n",
      "-1.85297384699  *  word_freq_edu\n",
      "-2.2962722861  *  word_freq_table\n",
      "-5.76574509737  *  word_freq_conference\n",
      "-1.40845156817  *  char_freq_;\n",
      "-0.332468069174  *  char_freq_(\n",
      "-1.09323216789  *  char_freq_[\n",
      "0.228026839887  *  char_freq_!\n",
      "5.69237026193  *  char_freq_$\n",
      "2.63363281028  *  char_freq_#\n",
      "0.0297154916485  *  capital_run_length_average\n",
      "0.0105514914668  *  capital_run_length_longest\n",
      "0.000965356129173  *  capital_run_length_total\n",
      "-0.803746841608  *  _intercept\n"
     ]
    }
   ],
   "source": [
    "# let's get back to our first fitted model\n",
    "X_train, X_test, y_train, y_test = train_test_split(X, y, test_size=0.2, random_state=0)\n",
    "logres = LogisticRegression(C = 1e9)\n",
    "logres.fit(X_train,y_train)\n",
    "\n",
    "# examine the coefficients of our fitted model\n",
    "column_names = np.asarray(X.columns.values)\n",
    "m = X.columns.size\n",
    "\n",
    "print (\"m:\",m)\n",
    "i = 0\n",
    "while (i<m):\n",
    "    print(logres.coef_[0,i], \" * \",column_names[i])\n",
    "    i = i + 1"
   ]
  },
  {
   "cell_type": "markdown",
   "metadata": {},
   "source": [
    "#### Let's produce a nice looking confusion matrix"
   ]
  },
  {
   "cell_type": "code",
   "execution_count": 32,
   "metadata": {
    "scrolled": true
   },
   "outputs": [
    {
     "name": "stdout",
     "output_type": "stream",
     "text": [
      "Confusion matrix, without normalization\n",
      "[[503  35]\n",
      " [ 48 335]]\n",
      "Normalized confusion matrix\n",
      "[[ 0.93  0.07]\n",
      " [ 0.13  0.87]]\n"
     ]
    },
    {
     "data": {
      "image/png": "[encoded data removed]",
      "text/plain": [
       "<matplotlib.figure.Figure at 0x188d1371240>"
      ]
     },
     "metadata": {},
     "output_type": "display_data"
    },
    {
     "data": {
      "image/png": "[encoded data removed]",
      "text/plain": [
       "<matplotlib.figure.Figure at 0x188d13cb358>"
      ]
     },
     "metadata": {},
     "output_type": "display_data"
    },
    {
     "name": "stdout",
     "output_type": "stream",
     "text": [
      "True positives: 335\n",
      "True negatives: 503\n",
      "False positives: 35\n",
      "False negatives: 48\n"
     ]
    }
   ],
   "source": [
    "import itertools\n",
    "from sklearn.metrics import confusion_matrix\n",
    "\n",
    "# we need the actual predictions stored so we can generate the confusion matrix\n",
    "y_pred = logres.fit(X_train, y_train).predict(X_test)\n",
    "\n",
    "# plot confusion matrix function\n",
    "def plot_confusion_matrix(cm, classes,\n",
    "                          normalize=False,\n",
    "                          title='Confusion matrix',\n",
    "                          cmap=plt.cm.Blues):\n",
    "    \"\"\"\n",
    "    This function prints and plots the confusion matrix.\n",
    "    Normalization can be applied by setting `normalize=True`.\n",
    "    \"\"\"\n",
    "    if normalize:\n",
    "        cm = cm.astype('float') / cm.sum(axis=1)[:, np.newaxis]\n",
    "        print(\"Normalized confusion matrix\")\n",
    "    else:\n",
    "        print('Confusion matrix, without normalization')\n",
    "\n",
    "    print(cm)\n",
    "\n",
    "    plt.imshow(cm, interpolation='nearest', cmap=cmap)\n",
    "    plt.title(title)\n",
    "    plt.colorbar()\n",
    "    tick_marks = np.arange(len(classes))\n",
    "    plt.xticks(tick_marks, classes, rotation=45)\n",
    "    plt.yticks(tick_marks, classes)\n",
    "\n",
    "    fmt = '.2f' if normalize else 'd'\n",
    "    thresh = cm.max() / 2.\n",
    "    for i, j in itertools.product(range(cm.shape[0]), range(cm.shape[1])):\n",
    "        plt.text(j, i, format(cm[i, j], fmt),\n",
    "                 horizontalalignment=\"center\",\n",
    "                 color=\"white\" if cm[i, j] > thresh else \"black\")\n",
    "\n",
    "    plt.tight_layout()\n",
    "    plt.ylabel('True label')\n",
    "    plt.xlabel('Predicted label')\n",
    "\n",
    "# Compute confusion matrix\n",
    "class_names = ['not spam','spam']\n",
    "cnf_matrix = confusion_matrix(y_test, y_pred)\n",
    "np.set_printoptions(precision=2)\n",
    "\n",
    "# Plot non-normalized confusion matrix\n",
    "plt.figure()\n",
    "plot_confusion_matrix(cnf_matrix, classes=class_names,\n",
    "                      title='Confusion matrix, without normalization')\n",
    "\n",
    "# Plot normalized confusion matrix\n",
    "plt.figure()\n",
    "plot_confusion_matrix(cnf_matrix, classes=class_names, normalize=True,\n",
    "                      title='Normalized confusion matrix')\n",
    "\n",
    "plt.show()\n",
    "\n",
    "# We can get each value of the confusion matrix individually\n",
    "# Let's assume the spam class is the positive class\n",
    "print(\"True positives:\",cnf_matrix[1,1])\n",
    "print(\"True negatives:\",cnf_matrix[0,0])\n",
    "print(\"False positives:\",cnf_matrix[0,1])\n",
    "print(\"False negatives:\",cnf_matrix[1,0])\n"
   ]
  },
  {
   "cell_type": "markdown",
   "metadata": {},
   "source": [
    "#### Generate a new logisitic regression models.\n",
    "\n",
    "Fit logres1 by fitting it to same data as logres with 2-3 of the features with large coefficient values dropped (can be either positive or negative or both)\n",
    "\n",
    "After droppng the features and fitting the model, print the training and test accuracies and the coefficients. Examine the results for differences,"
   ]
  },
  {
   "cell_type": "code",
   "execution_count": 33,
   "metadata": {},
   "outputs": [
    {
     "name": "stdout",
     "output_type": "stream",
     "text": [
      "New Score on training data: 0.925815217391\n",
      "New Score on test data: 0.905537459283 \n",
      "\n",
      "New iterative Score on training data: 0.923641304348\n",
      "New iterative Score on test data: 0.925081433225\n",
      "New iterative Score on training data: 0.923641304348\n",
      "New iterative Score on test data: 0.921824104235\n",
      "New iterative Score on training data: 0.920652173913\n",
      "New iterative Score on test data: 0.922909880565\n",
      "New iterative Score on training data: 0.92527173913\n",
      "New iterative Score on test data: 0.926167209555\n",
      "New iterative Score on training data: 0.920923913043\n",
      "New iterative Score on test data: 0.919652551574\n",
      "New iterative Score on training data: 0.921195652174\n",
      "New iterative Score on test data: 0.923995656895\n",
      "New iterative Score on training data: 0.92472826087\n",
      "New iterative Score on test data: 0.913137893594\n",
      "New iterative Score on training data: 0.925815217391\n",
      "New iterative Score on test data: 0.903365906623\n",
      "New iterative Score on training data: 0.922282608696\n",
      "New iterative Score on test data: 0.928338762215\n",
      "\n",
      "\n",
      "mean of training accuracy  0.0777173913043\n",
      "mean of test accuracy 0.071661237785 \n",
      "\n",
      "new m: 55\n",
      "-0.308762054804  *  word_freq_make\n",
      "-0.142084495633  *  word_freq_address\n",
      "0.158220052469  *  word_freq_all\n",
      "1.8828998571  *  word_freq_3d\n",
      "0.61428185556  *  word_freq_our\n",
      "0.768618764478  *  word_freq_over\n",
      "2.34501394701  *  word_freq_remove\n",
      "0.514412164538  *  word_freq_internet\n",
      "0.654060509072  *  word_freq_order\n",
      "0.0766096825861  *  word_freq_mail\n",
      "0.245550954239  *  word_freq_receive\n",
      "-0.114543662897  *  word_freq_will\n",
      "-0.0888295899836  *  word_freq_people\n",
      "0.177355921616  *  word_freq_report\n",
      "1.01470059315  *  word_freq_addresses\n",
      "0.831010637826  *  word_freq_free\n",
      "0.860234578868  *  word_freq_business\n",
      "-0.0574466293609  *  word_freq_email\n",
      "0.0909931423934  *  word_freq_you\n",
      "0.685775236204  *  word_freq_credit\n",
      "0.272038841334  *  word_freq_your\n",
      "0.18514242033  *  word_freq_font\n",
      "2.04587724131  *  word_freq_000\n",
      "0.430750989878  *  word_freq_money\n",
      "-1.92728868065  *  word_freq_hp\n",
      "-1.29310637814  *  word_freq_hpl\n",
      "-17.037932047  *  word_freq_george\n",
      "0.607917512107  *  word_freq_650\n",
      "-2.18068749157  *  word_freq_lab\n",
      "-0.426336114497  *  word_freq_labs\n",
      "-0.01425390732  *  word_freq_telnet\n",
      "1.54408798324  *  word_freq_857\n",
      "-0.91253097263  *  word_freq_data\n",
      "0.781804414095  *  word_freq_415\n",
      "-3.59866401564  *  word_freq_85\n",
      "1.09710997679  *  word_freq_technology\n",
      "0.17192625062  *  word_freq_1999\n",
      "0.793085313924  *  word_freq_parts\n",
      "-0.799820271122  *  word_freq_pm\n",
      "-0.334475886938  *  word_freq_direct\n",
      "-6.51302145888  *  word_freq_meeting\n",
      "-3.18187854766  *  word_freq_original\n",
      "-1.33515463048  *  word_freq_project\n",
      "-1.27118510242  *  word_freq_re\n",
      "-0.765367721019  *  word_freq_edu\n",
      "-1.85297384699  *  word_freq_table\n",
      "-2.2962722861  *  char_freq_;\n",
      "-5.76574509737  *  char_freq_(\n",
      "-1.40845156817  *  char_freq_[\n",
      "-0.332468069174  *  char_freq_!\n",
      "-1.09323216789  *  char_freq_#\n",
      "0.228026839887  *  capital_run_length_average\n",
      "5.69237026193  *  capital_run_length_longest\n",
      "2.63363281028  *  capital_run_length_total\n",
      "0.0297154916485  *  _intercept\n"
     ]
    }
   ],
   "source": [
    "# write code for logres1 here\n",
    "\n",
    "# dropping values\n",
    "# -6.51302145888  *  word_freq_cs\n",
    "# -5.76574509737  *  word_freq_conference\n",
    "# 5.69237026193  *  char_freq_$\n",
    "\n",
    "\n",
    "# X_1 = X.drop('spam_class', axis=1)\n",
    "\n",
    "# X_1 = X.drop('char_freq_$', axis=1)\n",
    "# X_1 = X.drop('word_freq_cs', axis=1)\n",
    "X_1 = X.drop(['char_freq_$','word_freq_conference','word_freq_cs'], axis=1)\n",
    "\n",
    "y_1 = pd.DataFrame(spambase.spam_class)\n",
    "\n",
    "y_1 = np.ravel(y_1)\n",
    "\n",
    "X_train_1, X_test_1, y_train_1, y_test_1 = train_test_split(X_1, y_1, test_size=0.2, random_state=0)\n",
    "\n",
    "logres_1 = LogisticRegression(C = 1e9)\n",
    "logres_1.fit(X_train_1,y_train_1)\n",
    "\n",
    "\n",
    "train_score_1 = logres_1.score(X_train_1, y_train_1)\n",
    "test_score_1 = logres_1.score(X_test_1, y_test_1)\n",
    "\n",
    "print (\"New Score on training data:\", train_score_1)\n",
    "print (\"New Score on test data:\", test_score_1, \"\\n\")\n",
    "\n",
    "\n",
    "\n",
    "# Cheking accuracy for new Logres1\n",
    "for i in range(1,10):\n",
    "    X_train_2, X_test_2, y_train_2, y_test_2 = train_test_split(X_1, y_1, test_size=0.2, random_state=i)\n",
    "    logres_2 = LogisticRegression(C = 1e9)\n",
    "    logres_2.fit(X_train_2,y_train_2)\n",
    "\n",
    "    train_score_2 = logres_2.score(X_train_2, y_train_2)\n",
    "    test_score_2 = logres_2.score(X_test_2, y_test_2)\n",
    "    \n",
    "    new_train_err = 1-train_score_2\n",
    "    new_test_err = 1- test_score_2    \n",
    "\n",
    "    print (\"New iterative Score on training data:\", train_score_2)\n",
    "    print (\"New iterative Score on test data:\", test_score_2)\n",
    "    \n",
    "#     print (i)\n",
    "\n",
    "train_mean_new = new_train_err.mean()\n",
    "test_mean_new = new_test_err.mean()\n",
    "\n",
    "print (\"\\n\")\n",
    "print (\"mean of training accuracy \",train_mean_new)\n",
    "print (\"mean of test accuracy\",test_mean_new,\"\\n\")\n",
    "\n",
    "\n",
    "# Co-efficient checking for new \n",
    "# X_train, X_test, y_train, y_test = train_test_split(X, y, test_size=0.2, random_state=0)\n",
    "logres_2 = LogisticRegression(C = 1e9)\n",
    "logres_2.fit(X_train_1,y_train_1)\n",
    "\n",
    "# examine the coefficients of our fitted model\n",
    "column_names = np.asarray(X_1.columns.values)\n",
    "m_new = X_1.columns.size\n",
    "print (\"new m:\",m_new)\n",
    "i = 0\n",
    "while (i<m_new):\n",
    "    print(logres.coef_[0,i], \" * \",column_names[i])\n",
    "    i = i + 1"
   ]
  },
  {
   "cell_type": "markdown",
   "metadata": {},
   "source": [
    "#### In the box below, write the code to generate and the ROC curves for logres and logres1 on the same graph."
   ]
  },
  {
   "cell_type": "code",
   "execution_count": 34,
   "metadata": {},
   "outputs": [
    {
     "data": {
      "image/png": "[encoded data removed]",
      "text/plain": [
       "<matplotlib.figure.Figure at 0x188d0971550>"
      ]
     },
     "metadata": {},
     "output_type": "display_data"
    }
   ],
   "source": [
    "from sklearn.metrics import roc_curve\n",
    "\n",
    "\n",
    "y_pred = logres.fit(X_train, y_train).decision_function(X_test)    \n",
    "false_pos, true_pos, thres = roc_curve(y_test, y_pred)\n",
    "# roc_auc = auc(false_pos, true_pos)\n",
    "\n",
    "plt.plot(false_pos, true_pos,'b',label='logres')\n",
    "# plt.show()\n",
    "# print(false_pos)\n",
    "# print (true_pos)\n",
    "\n",
    "# print(thres)\n",
    "\n",
    "\n",
    "# ROC for logres1\n",
    "y_pred_1 = logres_1.fit(X_train_1, y_train_1).decision_function(X_test_1)    \n",
    "false_pos_1, true_pos_1, thres_1 = roc_curve(y_test_1, y_pred_1)\n",
    "# roc_auc_1 = auc(false_pos_1, true_pos_1)\n",
    "\n",
    "plt.plot(false_pos_1, true_pos_1,'r',label='logres1')\n",
    "\n",
    "plt.title('ROC Curve')\n",
    "plt.legend(loc='lower right')\n",
    "plt.plot([0,1],[0,1],'g--')\n",
    "plt.xlim([-0.2,1.5])\n",
    "plt.ylim([-0.2,1.5])\n",
    "plt.ylabel('True Positive ')\n",
    "plt.xlabel('False Positive ')\n",
    "plt.show()\n",
    "\n"
   ]
  },
  {
   "cell_type": "markdown",
   "metadata": {},
   "source": [
    "#### In the box below, write the code to compute and print the AUC for both curves."
   ]
  },
  {
   "cell_type": "code",
   "execution_count": 35,
   "metadata": {},
   "outputs": [
    {
     "name": "stdout",
     "output_type": "stream",
     "text": [
      "AUC for logres: 0.96625641822\n",
      "AUC for logres1: 0.962063342619\n"
     ]
    }
   ],
   "source": [
    "from sklearn.metrics import auc\n",
    "\n",
    "auc_0 = auc(false_pos, true_pos)\n",
    "print (\"AUC for logres:\", auc_0)\n",
    "\n",
    "auc_1 = auc(false_pos_1, true_pos_1)\n",
    "print (\"AUC for logres1:\", auc_1)\n",
    "\n",
    "# write the AUC code here\n"
   ]
  },
  {
   "cell_type": "code",
   "execution_count": null,
   "metadata": {
    "collapsed": true
   },
   "outputs": [],
   "source": []
  },
  {
   "cell_type": "code",
   "execution_count": null,
   "metadata": {
    "collapsed": true
   },
   "outputs": [],
   "source": []
  },
  {
   "cell_type": "code",
   "execution_count": null,
   "metadata": {
    "collapsed": true
   },
   "outputs": [],
   "source": []
  },
  {
   "cell_type": "code",
   "execution_count": null,
   "metadata": {
    "collapsed": true
   },
   "outputs": [],
   "source": []
  },
  {
   "cell_type": "code",
   "execution_count": null,
   "metadata": {
    "collapsed": true
   },
   "outputs": [],
   "source": []
  },
  {
   "cell_type": "code",
   "execution_count": null,
   "metadata": {
    "collapsed": true
   },
   "outputs": [],
   "source": []
  }
 ],
 "metadata": {
  "kernelspec": {
   "display_name": "Python 3",
   "language": "python",
   "name": "python3"
  },
  "language_info": {
   "codemirror_mode": {
    "name": "ipython",
    "version": 3
   },
   "file_extension": ".py",
   "mimetype": "text/x-python",
   "name": "python",
   "nbconvert_exporter": "python",
   "pygments_lexer": "ipython3",
   "version": "3.6.1"
  }
 },
 "nbformat": 4,
 "nbformat_minor": 2
}
